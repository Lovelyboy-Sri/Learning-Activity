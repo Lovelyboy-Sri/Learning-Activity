{
 "cells": [
  {
   "cell_type": "code",
   "execution_count": 2,
   "metadata": {},
   "outputs": [
    {
     "name": "stdout",
     "output_type": "stream",
     "text": [
      "Hello Buddy welcome here ..\n"
     ]
    }
   ],
   "source": [
    "import time\n",
    "\n",
    "print(\"Hello Buddy welcome here ..\")"
   ]
  },
  {
   "attachments": {},
   "cell_type": "markdown",
   "metadata": {},
   "source": [
    "# Data structure\n",
    "\n",
    "Here basically we have an 2 kind of data types ..\n",
    "which are\n",
    "\n",
    "    1. primitive\n",
    "    2. Non primitive\n",
    "\n",
    "## Primitive data type\n",
    "\n",
    "    * Int\n",
    "    * Float\n",
    "    * Boolean\n",
    "    * None\n",
    "\n",
    "\n",
    "## Advanced data types\n",
    "    * List  (changeable, allow dup)\n",
    "    * Tuple (Can't be changeable, allow dup)\n",
    "    * Dict  ()\n",
    "    * Str"
   ]
  },
  {
   "cell_type": "code",
   "execution_count": 3,
   "metadata": {},
   "outputs": [
    {
     "name": "stdout",
     "output_type": "stream",
     "text": [
      "a b 23\n",
      "\n",
      "Sri\n",
      "Sri\n",
      "Sri\n"
     ]
    }
   ],
   "source": [
    "a,b,c = \"a\",\"b\",23\n",
    "print(a,b,c)\n",
    "\n",
    "a= b= c=\"Sri\"\n",
    "print(f\"\"\"\n",
    "{a}\n",
    "{b}\n",
    "{c}\"\"\")"
   ]
  },
  {
   "attachments": {},
   "cell_type": "markdown",
   "metadata": {},
   "source": [
    "#  Types of insertion\n",
    "\n",
    "    * int = \n",
    "    * float =\n",
    "    * empty = none\n",
    "    * text = \" \"\n",
    "    * List = []\n",
    "    * Tuple = ()\n",
    "    * Dict = {}\n",
    "    * In operator"
   ]
  },
  {
   "cell_type": "code",
   "execution_count": 4,
   "metadata": {},
   "outputs": [
    {
     "name": "stdout",
     "output_type": "stream",
     "text": [
      "7\n",
      "r\n",
      "ridhar\n",
      "ridha\n",
      "rahdirs\n",
      "ridha\n"
     ]
    }
   ],
   "source": [
    "# String Slicing method performs role of here\n",
    "\n",
    "a = \"sridhar\"\n",
    "\n",
    "print(len(a))\n",
    "print(a[1])\n",
    "print(a[1::])\n",
    "print(a[1:6])\n",
    "print(a[::-1])\n",
    "print(a[1:-1])\n",
    "\n"
   ]
  },
  {
   "attachments": {},
   "cell_type": "markdown",
   "metadata": {},
   "source": [
    "# List Methods \n",
    "\n",
    "List is Mutable,Ordered,it allows duplicates,it has an negative index and initialize with []\n",
    "\n",
    "## Addind                 ##Removing                      ##Commen Fun\n",
    "\n",
    "* append()                * remove( ele )                 * copy()\n",
    "* insert(pos , ele)       * pop( pos )                    * sort()\n",
    "* extend()                                                * len()\n",
    "                                                          * index( val )\n",
    "                                                          * reverse\n",
    "                                                          * count( val )\n",
    "                                                          * count()   "
   ]
  },
  {
   "cell_type": "code",
   "execution_count": null,
   "metadata": {},
   "outputs": [],
   "source": [
    "a = ['a','b','c',23,12,1.5]\n",
    "b = ['s','r','i',1,2]\n",
    "\n",
    "print(len(a),len(b))\n",
    "type(a)\n",
    "\n",
    "c = a+b\n",
    "print(\"After Concortenate ..\\n\",c)\n",
    "\n",
    "a.append(\"Sri\")\n",
    "print(\"\\nAfter append ..\\n\",a)\n",
    "\n",
    "b += a.copy()\n",
    "print(\"\\nAfter copy ..\\n\",b)\n",
    "\n",
    "a.pop()\n",
    "print(\"\\nAfter pop ..\\n\",a)\n",
    "\n",
    "a.remove(1.5)\n",
    "print(\"\\nAter remove .. \\n\",a)\n",
    "\n",
    "a.clear()\n",
    "print(\"\\nAter Clear \\n\",a)\n",
    "\n",
    "print(\"\\nAfter verify ..\\n\",12 in b)"
   ]
  },
  {
   "attachments": {},
   "cell_type": "markdown",
   "metadata": {},
   "source": [
    "# Boolean \n",
    "\n",
    "    It Consist an True or False value\n",
    "\n",
    "## Tuple \n",
    "\n",
    "* Its an mutable or Changeable\n",
    "* ordered,Initialize with (),\n",
    "* allow Duplicates\n",
    "* Here also apart from append and remove function.have an same operations like a List"
   ]
  },
  {
   "attachments": {},
   "cell_type": "markdown",
   "metadata": {},
   "source": [
    "# Dictionary                                    - Function\n",
    "\n",
    "* Immutable or can't be changeable                * Dic()       ### insert\n",
    "* It has and key value pair                       * Pop()       ### Removing\n",
    "* Having Negative index                           * del()       ### Removing\n",
    "* Unique key value\n",
    "* Initialize with {}\n",
    "\n",
    "                \n",
    "                ## Function Methods in Dictionary\n",
    "                * clear()\n",
    "                * copy()\n",
    "                * items()\n",
    "                * get()\n",
    "                * keys()\n",
    "                * pop ()\n",
    "                * popitems ()\n",
    "                * values ()\n"
   ]
  },
  {
   "cell_type": "code",
   "execution_count": null,
   "metadata": {},
   "outputs": [],
   "source": [
    "d = { }  # Empty dictionary\n",
    "print(d)\n",
    "\n",
    "d.update({\"name\":\"Sri\"})\n",
    "d.update({\"Age\" : 23,\"Addr\" :\"Krishnagiri\",\"weight\":49})\n",
    "print(d)\n",
    "\n",
    "\n",
    "print(d[\"weight\"])\n",
    "print(d.keys())\n",
    "\n",
    "print(d.values())\n"
   ]
  },
  {
   "cell_type": "code",
   "execution_count": null,
   "metadata": {},
   "outputs": [],
   "source": [
    "d.items()"
   ]
  },
  {
   "attachments": {},
   "cell_type": "markdown",
   "metadata": {},
   "source": [
    "# Tuple\n",
    "\n",
    "## Function\n",
    "* count()\n",
    "* Index()"
   ]
  },
  {
   "cell_type": "code",
   "execution_count": null,
   "metadata": {},
   "outputs": [],
   "source": [
    "print(\"Dictionarry data type .. \\n\")\n",
    "\n",
    "a = {\n",
    "    'name':'sri',\n",
    "    'status':'single',\n",
    "    'age':23\n",
    "}\n",
    "print(a.keys())\n",
    "print(\"\\nLen of a ..\\n\",len(a))\n",
    "print(\"\\n\",a.values())\n",
    "\n",
    "print(\"\\n Items of a ..\\n\",a)\n",
    "\n",
    "print(\"\\nName :\",a['name'])"
   ]
  },
  {
   "cell_type": "code",
   "execution_count": null,
   "metadata": {},
   "outputs": [],
   "source": [
    "w = dict(name=\"fw\",where=\"searching\",age=\"unable to detect\")\n",
    "type(w)\n",
    "\n",
    "print(w.keys())\n",
    "print(w.values())\n",
    "print(w.items())\n",
    "print(w[\"where\"])\n",
    "\n",
    "print(w.get('name'))\n",
    "print(\"\\nConcortenated pair ..\\n\",w)\n",
    "\n",
    "w.update(dict(hus=\"sri\"))\n",
    "print(w)\n",
    "\n",
    "w.pop('age')\n",
    "print(\"\\nafter pop:\",w)\n",
    "\n",
    "w.clear()\n",
    "print(\"\\n afetr clear .. \",w)\n",
    "\n",
    "w = a.copy()\n",
    "print(\"\\nAfter copy ..\\n\",w)\n"
   ]
  },
  {
   "attachments": {},
   "cell_type": "markdown",
   "metadata": {},
   "source": [
    "# Braching & Loops\n",
    "\n",
    "## Branching means conditional statements \n",
    "\n",
    "which are..\n",
    "\n",
    "    1. if ..\n",
    "    2. else ..\n",
    "    3. elif ..\n"
   ]
  },
  {
   "cell_type": "code",
   "execution_count": null,
   "metadata": {},
   "outputs": [],
   "source": [
    "import time\n",
    "print(\"Welcome here we gonna to do simple braching program ..\\n\")\n",
    "\n",
    "i = int(input(\"Pin : \"))\n",
    "if i== 1223:\n",
    "    o = int(input(\"\"\"\\n Select your language here ..\n",
    "    1. English\n",
    "    2. Tamil\n",
    "    99.exit\n",
    "    \"\"\"))\n",
    "    c = int(input(\"\"\"\\n Do you want to continue ..\n",
    "                1. Yes\n",
    "                2. No\n",
    "            \"\"\")) \n",
    "    if o ==1:\n",
    "        am = 10000\n",
    "        p = int(input(\"\"\"\\n Enter your option here ..\n",
    "            1. Balance enquiry\n",
    "            2. Widraw amount\n",
    "            99. Exit  \n",
    "        \"\"\"))\n",
    "        if p==1:\n",
    "            print(\"\\n Your available amount : \",am)\n",
    "            \n",
    "            if c==1:\n",
    "                print(o)\n",
    "            else:\n",
    "                print(\"Thank you for visiting my ATM !\")\n",
    "                exit\n",
    "        elif p == 2:\n",
    "            v = int(input(\"\\n Enter your widraw amount : \"))\n",
    "            print(f\"Collect your cash : {v}\")\n",
    "            time.sleep(2)\n",
    "            print(f\"Your available amount is : {am-v}\")\n",
    "            print(c)    \n",
    "        else:\n",
    "            exit\n",
    "\n",
    "    elif o == 2:\n",
    "        pass\n",
    "\n",
    "    else:\n",
    "        print(\"Thank you for visiting my ATM ! \")\n",
    "else:\n",
    "    print(\"Thank you for Using my ATM service !\")\n"
   ]
  },
  {
   "attachments": {},
   "cell_type": "markdown",
   "metadata": {},
   "source": [
    "# Loops \n",
    "\n",
    "we have an two kind of loops herer which are mentioned in below ..\n",
    "\n",
    "* While loop                      * For loop\n",
    "\n",
    "# Syntax\n",
    "\n",
    "condition                       |  for(cond) in (name):         \n",
    "                                |     body\n",
    "while (Boolean exp):            |\n",
    "    body                        |"
   ]
  },
  {
   "cell_type": "code",
   "execution_count": null,
   "metadata": {},
   "outputs": [],
   "source": [
    "# For Loop Condition\n",
    "for a in range(10,100,5):\n",
    "    print(\"*\"*a)"
   ]
  },
  {
   "cell_type": "code",
   "execution_count": null,
   "metadata": {},
   "outputs": [],
   "source": [
    "for i in range(1,4):\n",
    "    print(f\"i = {i}\")\n",
    "    i = i+1\n",
    "print(\"done\")"
   ]
  },
  {
   "cell_type": "code",
   "execution_count": 16,
   "metadata": {},
   "outputs": [
    {
     "name": "stdout",
     "output_type": "stream",
     "text": [
      "a = 10\n",
      "a = 9\n",
      "a = 8\n",
      "a = 7\n",
      "a = 6\n",
      "a = 5\n",
      "a = 4\n",
      "a = 3\n",
      "a = 2\n",
      "a = 1\n",
      "Done\n"
     ]
    }
   ],
   "source": [
    "for a in range(10,0,-1):\n",
    "    print(f\"a = {a}\")\n",
    "print(\"Done\")"
   ]
  },
  {
   "cell_type": "code",
   "execution_count": null,
   "metadata": {},
   "outputs": [],
   "source": [
    "for s in \"I Love You\":\n",
    "    if s == \"Y\":\n",
    "        break\n",
    "    elif s == \"o\":\n",
    "        continue\n",
    "    print(s)"
   ]
  },
  {
   "cell_type": "code",
   "execution_count": null,
   "metadata": {},
   "outputs": [],
   "source": [
    "a = ['s','r','i','d','h','a','r']\n",
    "print(type(a))\n",
    "\n",
    "a = set(a)\n",
    "print(type(a))\n",
    "\n",
    "for i in a:\n",
    "    print(i)"
   ]
  },
  {
   "cell_type": "code",
   "execution_count": null,
   "metadata": {},
   "outputs": [],
   "source": [
    "# Factorial of 1st 100 numbers\n",
    "\n",
    "a = 10\n",
    "c = 1\n",
    "while c<=10:\n",
    "    a*=c\n",
    "    c+=1\n",
    "print(a)"
   ]
  },
  {
   "cell_type": "code",
   "execution_count": 13,
   "metadata": {},
   "outputs": [
    {
     "name": "stdout",
     "output_type": "stream",
     "text": [
      "a = 0\n",
      "a = 4\n",
      "a = 8\n",
      "a = 12\n",
      "a = 16\n",
      "a = 20\n",
      "Done\n"
     ]
    }
   ],
   "source": [
    "a = 0\n",
    "while a<=20:\n",
    "    print(f\"a = {a}\")\n",
    "    a+=4\n",
    "print(\"Done\")"
   ]
  },
  {
   "cell_type": "code",
   "execution_count": 19,
   "metadata": {},
   "outputs": [
    {
     "name": "stdout",
     "output_type": "stream",
     "text": [
      "A = 20\n",
      "A = 19\n",
      "A = 18\n",
      "A = 17\n",
      "A = 16\n",
      "A = 15\n",
      "A = 14\n",
      "A = 13\n",
      "A = 12\n",
      "A = 11\n",
      "A = 10\n",
      "A = 9\n",
      "A = 8\n",
      "A = 7\n",
      "A = 6\n",
      "A = 5\n",
      "A = 4\n",
      "A = 3\n",
      "A = 2\n",
      "A = 1\n",
      "done\n"
     ]
    }
   ],
   "source": [
    "a = 20\n",
    "while a>0:\n",
    "    print(f\"A = {a}\")\n",
    "    a-=1\n",
    "print(\"done\")\n"
   ]
  },
  {
   "cell_type": "code",
   "execution_count": null,
   "metadata": {},
   "outputs": [
    {
     "name": "stdout",
     "output_type": "stream",
     "text": [
      "*\n",
      "**\n",
      "***\n",
      "****\n",
      "*****\n",
      "******\n",
      "*******\n",
      "********\n",
      "*********\n",
      "**********\n",
      "***********\n",
      "**********\n",
      "*********\n",
      "********\n",
      "*******\n",
      "******\n",
      "*****\n",
      "****\n",
      "***\n",
      "**\n",
      "*\n"
     ]
    }
   ],
   "source": [
    "# Print a Star Pattern\n",
    "\n",
    "l = \"*\"\n",
    "max = 10\n",
    "\n",
    "\n",
    "while len(l)<= max:\n",
    "    print(l)\n",
    "    l+=\"*\"\n",
    "\n",
    "# Reverse pattern\n",
    "while len(l)>0:\n",
    "    print(l)\n",
    "    l=l[:-1]"
   ]
  },
  {
   "attachments": {},
   "cell_type": "markdown",
   "metadata": {},
   "source": [
    "# SET                                           - Fun\n",
    "\n",
    "> Doesn't allow Duplicates                      * add()      # adding single item\n",
    "> Very similar to Dictionary                    * update()   \n",
    "> ordered                                       * pop()\n",
    "> Removes Duplicates                            * remove ()\n",
    "                                                * clear ()"
   ]
  },
  {
   "cell_type": "code",
   "execution_count": null,
   "metadata": {},
   "outputs": [],
   "source": [
    "d = set()\n",
    "\n",
    "d = set({8,6,34,52,8,6,3,1,3,2})\n",
    "print(d)\n",
    "\n",
    "print(d.clear())\n",
    "\n",
    "print(d.update([1,3,4,57,65,43,2]))"
   ]
  },
  {
   "attachments": {},
   "cell_type": "markdown",
   "metadata": {},
   "source": [
    "Set Operation's\n",
    "\n",
    "> Insert\n",
    "> Union\n",
    "> Difference\n",
    "> Symentric Difference"
   ]
  },
  {
   "cell_type": "code",
   "execution_count": 8,
   "metadata": {},
   "outputs": [
    {
     "data": {
      "text/plain": [
       "set()"
      ]
     },
     "execution_count": 8,
     "metadata": {},
     "output_type": "execute_result"
    }
   ],
   "source": [
    "s = set()\n",
    "s"
   ]
  },
  {
   "cell_type": "code",
   "execution_count": 9,
   "metadata": {},
   "outputs": [
    {
     "data": {
      "text/plain": [
       "{0, 1, 2, 3, 4, 5, 6, 7, 8, 33, 55}"
      ]
     },
     "execution_count": 9,
     "metadata": {},
     "output_type": "execute_result"
    }
   ],
   "source": [
    "s = {1,2,4,3,2,6,7,8,0,5,3,33,55,2,1}\n",
    "s"
   ]
  },
  {
   "cell_type": "code",
   "execution_count": 10,
   "metadata": {},
   "outputs": [
    {
     "data": {
      "text/plain": [
       "{0, 1, 2, 3, 4, 5, 6, 7, 8, 20, 33, 55}"
      ]
     },
     "execution_count": 10,
     "metadata": {},
     "output_type": "execute_result"
    }
   ],
   "source": [
    "s.add(20)\n",
    "s"
   ]
  },
  {
   "cell_type": "code",
   "execution_count": 12,
   "metadata": {},
   "outputs": [
    {
     "data": {
      "text/plain": [
       "{0, 1, 2, 3, 4, 5, 6, 7, 8, 12, 20, 23, 33, 42, 55}"
      ]
     },
     "execution_count": 12,
     "metadata": {},
     "output_type": "execute_result"
    }
   ],
   "source": [
    "s.update([23,12,33,42])\n",
    "s"
   ]
  },
  {
   "cell_type": "code",
   "execution_count": 13,
   "metadata": {},
   "outputs": [
    {
     "name": "stdout",
     "output_type": "stream",
     "text": [
      "{0, 1, 2, 3, 4, 5, 6, 7, 8, 42, 12, 20, 23, 55}\n"
     ]
    },
    {
     "data": {
      "text/plain": [
       "{1, 2, 3, 4, 5, 6, 7, 8, 12, 20, 23, 42, 55}"
      ]
     },
     "execution_count": 13,
     "metadata": {},
     "output_type": "execute_result"
    }
   ],
   "source": [
    "s.remove(33)\n",
    "print(s)\n",
    "\n",
    "s.pop()\n",
    "s\n",
    "\n"
   ]
  },
  {
   "cell_type": "code",
   "execution_count": 1,
   "metadata": {},
   "outputs": [
    {
     "data": {
      "text/plain": [
       "{1, 2, 3, 4, 5, 6, 23, 24, 34, 45, 75, 212, 324, 353, 545, 4233, 6544}"
      ]
     },
     "execution_count": 1,
     "metadata": {},
     "output_type": "execute_result"
    }
   ],
   "source": [
    "# Set Operation\n",
    "\n",
    "s1 = {1,2,34,5,6,4,3,2,24,45,6,75,4,3}\n",
    "s2 = {2,3,324,24,3,23,4,353,545,6544,4233,212}\n",
    "\n",
    "s1.union(s2)"
   ]
  },
  {
   "cell_type": "code",
   "execution_count": 2,
   "metadata": {},
   "outputs": [
    {
     "data": {
      "text/plain": [
       "{2, 3, 4, 24}"
      ]
     },
     "execution_count": 2,
     "metadata": {},
     "output_type": "execute_result"
    }
   ],
   "source": [
    "s1.intersection(s2) #Commen latters in s1"
   ]
  },
  {
   "cell_type": "code",
   "execution_count": 4,
   "metadata": {},
   "outputs": [
    {
     "data": {
      "text/plain": [
       "{1, 5, 6, 34, 45, 75}"
      ]
     },
     "execution_count": 4,
     "metadata": {},
     "output_type": "execute_result"
    }
   ],
   "source": [
    "s1.difference(s2)"
   ]
  },
  {
   "cell_type": "code",
   "execution_count": 5,
   "metadata": {},
   "outputs": [
    {
     "data": {
      "text/plain": [
       "{1, 5, 6, 23, 34, 45, 75, 212, 324, 353, 545, 4233, 6544}"
      ]
     },
     "execution_count": 5,
     "metadata": {},
     "output_type": "execute_result"
    }
   ],
   "source": [
    "s1.symmetric_difference(s2)"
   ]
  },
  {
   "cell_type": "code",
   "execution_count": null,
   "metadata": {},
   "outputs": [],
   "source": [
    "d = dict(name='sri',sex='male',age=23)\n",
    "for keys in d:\n",
    "    print(keys)\n",
    "    print(d)"
   ]
  },
  {
   "attachments": {},
   "cell_type": "markdown",
   "metadata": {},
   "source": [
    "# Functions \n",
    "\n",
    "we have an 2 kind of functions here ..\n",
    "\n",
    "* it's defined as the block of code reusablity\n",
    "* It offered as better modularity\n",
    "\n",
    "> Pre defind function\n",
    "> User defined\n"
   ]
  },
  {
   "attachments": {},
   "cell_type": "markdown",
   "metadata": {},
   "source": [
    "## Syntax\n",
    "\n",
    "def Funname (parameter):\n",
    "    funtion suite\n",
    "    return(expression)"
   ]
  },
  {
   "cell_type": "code",
   "execution_count": 28,
   "metadata": {},
   "outputs": [
    {
     "name": "stdout",
     "output_type": "stream",
     "text": [
      "13\n"
     ]
    }
   ],
   "source": [
    "def name(a,b,c):\n",
    "    print(a*b+c)\n",
    "\n",
    "name(3,1,10)\n"
   ]
  },
  {
   "cell_type": "code",
   "execution_count": null,
   "metadata": {},
   "outputs": [],
   "source": [
    "def s(a,b):\n",
    "    print(a+b)\n",
    "\n",
    "s(2,3)\n",
    "s(5,6)"
   ]
  },
  {
   "cell_type": "code",
   "execution_count": null,
   "metadata": {},
   "outputs": [],
   "source": [
    "def wel(n):\n",
    "    print(f\"Hello {n}\")\n",
    "\n",
    "wel(\"Sri\")\n",
    "wel(\"partner\")"
   ]
  },
  {
   "attachments": {},
   "cell_type": "markdown",
   "metadata": {},
   "source": [
    "# Funtion Arguments\n",
    "\n",
    "we have following types of argument\n",
    "which means it said to be an what are the action we performed here\n",
    "\n",
    "* Required arg\n",
    "* Keyword arg\n",
    "* Default arg\n",
    "* Variable length arg"
   ]
  },
  {
   "attachments": {},
   "cell_type": "markdown",
   "metadata": {},
   "source": [
    "## Required Arguments"
   ]
  },
  {
   "cell_type": "code",
   "execution_count": 29,
   "metadata": {},
   "outputs": [
    {
     "data": {
      "text/plain": [
       "'3 and 6 are added here'"
      ]
     },
     "execution_count": 29,
     "metadata": {},
     "output_type": "execute_result"
    }
   ],
   "source": [
    "def name(a,b):\n",
    "    return f\"{a} and {b} are added here\"\n",
    "\n",
    "name(3,6)"
   ]
  },
  {
   "attachments": {},
   "cell_type": "markdown",
   "metadata": {},
   "source": [
    "## Default arguments"
   ]
  },
  {
   "cell_type": "code",
   "execution_count": 33,
   "metadata": {},
   "outputs": [
    {
     "data": {
      "text/plain": [
       "\"The name of ajay is eligible to vote!,bcoz the person's age acceted to min level of voting 20\""
      ]
     },
     "execution_count": 33,
     "metadata": {},
     "output_type": "execute_result"
    }
   ],
   "source": [
    "def det(name,age=23):\n",
    "    return f\"The name of {name} is eligible to vote!,bcoz the person's age acceted to min level of voting {age}\"\n",
    "\n",
    "det(\"sri\")\n",
    "det(\"ajay\",20)"
   ]
  },
  {
   "attachments": {},
   "cell_type": "markdown",
   "metadata": {},
   "source": [
    "## Keyword arguments"
   ]
  },
  {
   "cell_type": "code",
   "execution_count": 35,
   "metadata": {},
   "outputs": [
    {
     "data": {
      "text/plain": [
       "'Sridhar S age 23'"
      ]
     },
     "execution_count": 35,
     "metadata": {},
     "output_type": "execute_result"
    }
   ],
   "source": [
    "def p(fn,la,age):\n",
    "    return f\"{fn} {la} age {age}\"\n",
    "\n",
    "p(fn=\"Sridhar\",la=\"S\",age=23)"
   ]
  },
  {
   "attachments": {},
   "cell_type": "markdown",
   "metadata": {},
   "source": [
    "## Variable argument"
   ]
  },
  {
   "cell_type": "code",
   "execution_count": 38,
   "metadata": {},
   "outputs": [
    {
     "data": {
      "text/plain": [
       "[1, 2, 3, 4, 5, 6]"
      ]
     },
     "execution_count": 38,
     "metadata": {},
     "output_type": "execute_result"
    }
   ],
   "source": [
    "def per(*var):\n",
    "    for i in var:\n",
    "        return i\n",
    "    \n",
    "per([1,2,3,4,5,6])"
   ]
  },
  {
   "attachments": {},
   "cell_type": "markdown",
   "metadata": {},
   "source": [
    "# Lambda Function or anonymous Function\n",
    "\n",
    "* Lambda keyword creates small anonymous fun\n",
    "* we don't required to uses def keuword\n",
    "* It can takes any lambda argument but it executes single expression or one line function\n",
    "* we don't have muliti fun or keyword\n",
    "\n",
    "## Syntax\n",
    "\n",
    "lambda arg:expression"
   ]
  },
  {
   "attachments": {},
   "cell_type": "markdown",
   "metadata": {},
   "source": [
    "# Scoppe of varioables\n",
    "\n",
    "we have two kind of variables \n",
    "\n",
    "> Global     - Its should be defined as outside fun & Access anywhere inside the fun \n",
    "> Local      - its defined as inside fun within thefun"
   ]
  },
  {
   "cell_type": "code",
   "execution_count": 44,
   "metadata": {},
   "outputs": [
    {
     "data": {
      "text/plain": [
       "35"
      ]
     },
     "execution_count": 44,
     "metadata": {},
     "output_type": "execute_result"
    }
   ],
   "source": [
    "s = lambda a,b : a+b\n",
    "\n",
    "s(2,5)\n",
    "s(12,23)"
   ]
  },
  {
   "cell_type": "code",
   "execution_count": null,
   "metadata": {},
   "outputs": [],
   "source": [
    "class clg:\n",
    "\n",
    "    def pa(self,name,age,sex):\n",
    "        self.name = name\n",
    "        self.age = age\n",
    "        self.sex = sex\n",
    "\n",
    "        return f\"The Person name {name} are in age of {age} and sex mentioned is {sex} \"\n",
    "    \n",
    "    def std(self,name,age,sex):\n",
    "        return f\"\"\"\n",
    "            Name : {name}\n",
    "            age  : {age}\n",
    "            sex  : {sex}\n",
    "        \"\"\" "
   ]
  },
  {
   "cell_type": "code",
   "execution_count": 2,
   "metadata": {},
   "outputs": [
    {
     "ename": "NameError",
     "evalue": "name 'clg' is not defined",
     "output_type": "error",
     "traceback": [
      "\u001b[0;31m---------------------------------------------------------------------------\u001b[0m",
      "\u001b[0;31mNameError\u001b[0m                                 Traceback (most recent call last)",
      "\u001b[1;32m/media/sridhar/Sri/Linux workspace/Untitled-1.ipynb Cell 58\u001b[0m in \u001b[0;36m1\n\u001b[0;32m----> <a href='vscode-notebook-cell:/media/sridhar/Sri/Linux%20workspace/Untitled-1.ipynb#Y111sZmlsZQ%3D%3D?line=0'>1</a>\u001b[0m \u001b[39mclass\u001b[39;00m \u001b[39mDep\u001b[39;00m(clg):\n\u001b[1;32m      <a href='vscode-notebook-cell:/media/sridhar/Sri/Linux%20workspace/Untitled-1.ipynb#Y111sZmlsZQ%3D%3D?line=2'>3</a>\u001b[0m     \u001b[39mdef\u001b[39;00m \u001b[39mfac\u001b[39m(\u001b[39mself\u001b[39m,n,a,s):\n\u001b[1;32m      <a href='vscode-notebook-cell:/media/sridhar/Sri/Linux%20workspace/Untitled-1.ipynb#Y111sZmlsZQ%3D%3D?line=3'>4</a>\u001b[0m         \u001b[39mreturn\u001b[39;00m \u001b[39mf\u001b[39m\u001b[39m\"\"\"\u001b[39m\n\u001b[1;32m      <a href='vscode-notebook-cell:/media/sridhar/Sri/Linux%20workspace/Untitled-1.ipynb#Y111sZmlsZQ%3D%3D?line=4'>5</a>\u001b[0m \u001b[39m        Faculty name is ..\u001b[39m\n\u001b[1;32m      <a href='vscode-notebook-cell:/media/sridhar/Sri/Linux%20workspace/Untitled-1.ipynb#Y111sZmlsZQ%3D%3D?line=5'>6</a>\u001b[0m \u001b[39m        Name : \u001b[39m\u001b[39m{\u001b[39;00mn\u001b[39m}\u001b[39;00m\n\u001b[1;32m      <a href='vscode-notebook-cell:/media/sridhar/Sri/Linux%20workspace/Untitled-1.ipynb#Y111sZmlsZQ%3D%3D?line=6'>7</a>\u001b[0m \u001b[39m        age  : \u001b[39m\u001b[39m{\u001b[39;00ma\u001b[39m}\u001b[39;00m\n\u001b[1;32m      <a href='vscode-notebook-cell:/media/sridhar/Sri/Linux%20workspace/Untitled-1.ipynb#Y111sZmlsZQ%3D%3D?line=7'>8</a>\u001b[0m \u001b[39m        sex  : \u001b[39m\u001b[39m{\u001b[39;00ms\u001b[39m}\u001b[39;00m\n\u001b[1;32m      <a href='vscode-notebook-cell:/media/sridhar/Sri/Linux%20workspace/Untitled-1.ipynb#Y111sZmlsZQ%3D%3D?line=8'>9</a>\u001b[0m \u001b[39m        \u001b[39m\u001b[39m\"\"\"\u001b[39m\n",
      "\u001b[0;31mNameError\u001b[0m: name 'clg' is not defined"
     ]
    }
   ],
   "source": [
    "class Dep(clg):\n",
    "\n",
    "    def fac(self,n,a,s):\n",
    "        return f\"\"\"\n",
    "        Faculty name is ..\n",
    "        Name : {n}\n",
    "        age  : {a}\n",
    "        sex  : {s}\n",
    "        \"\"\"\n",
    "    \n",
    "    def code(self):\n",
    "        c = int(input(\"Clg Code : \"))\n",
    "        return f\"\"\"\n",
    "        Your College code is : {c}\n",
    "        \"\"\"\n",
    "    \n",
    "e = Dep()\n",
    "e.pa(\"Sri\",23,\"male\")\n",
    "e.code()\n",
    "e.std(\"Kavi\",22,\"female\")\n",
    "e.fac(\"Kp\",32,\"Fmale\")\n"
   ]
  },
  {
   "attachments": {},
   "cell_type": "markdown",
   "metadata": {},
   "source": [
    "# Example Sum\n",
    "\n",
    "Radha buy house = $ 1,260,000\n",
    "\n",
    "option 1:\n",
    "Makes an down pay = $ 3,00,000\n",
    "yr loan = 8yrs\n",
    "interest = 10 %\n",
    "\n",
    "option 2:\n",
    "Loan yr = 10 yrs\n",
    "interest = 8 %\n",
    "\n",
    "     ___________________________________________\n",
    "    |                                           |\n",
    "    | formula = (p*r*((1+r)**n))/(((1+r)**n)-1) | \n",
    "    |___________________________________________|\n",
    "    "
   ]
  },
  {
   "cell_type": "code",
   "execution_count": null,
   "metadata": {},
   "outputs": [],
   "source": [
    "\n",
    "def lam(amo,dur,dpay=0):\n",
    "    l = amo - dpay\n",
    "    emi = l / dur\n",
    "    return f\"Your EMI is : {emi}\"\n",
    "\n",
    "lam(300000,8,3000)"
   ]
  },
  {
   "cell_type": "code",
   "execution_count": null,
   "metadata": {},
   "outputs": [],
   "source": [
    "import math\n",
    "\n",
    "def lam(p,r,n,dpay=0):\n",
    "    p = p - dpay\n",
    "    s = (p*r*((1+r)**n))/(((1+r)**n)-1) \n",
    "    print(s)\n",
    "    emi = math.ceil(s)\n",
    "    return f\"Afetr ceil rounded value : {emi}\"\n",
    "lam(300000,10,8,15000)"
   ]
  },
  {
   "attachments": {},
   "cell_type": "markdown",
   "metadata": {},
   "source": [
    "# Exception handling \n",
    "\n",
    "Here the syntax is drawn in below\n",
    "\n",
    "try :\n",
    "    condition()\n",
    "\n",
    "except ____ as e:\n",
    "    statement()\n",
    "\n",
    "else:\n",
    "    statement()\n",
    "\n",
    "finally:\n",
    "    statement()"
   ]
  },
  {
   "attachments": {},
   "cell_type": "markdown",
   "metadata": {},
   "source": [
    "#                                                    Lets Begin Data Analysis \n",
    "\n",
    "    we gonna to analyse the temp, rainfall, humidity\n",
    "         _________________________________________________\n",
    "        |                                                 |\n",
    "        | Formula = w1*temp + w2*rainfall + w3*humidity   |\n",
    "        |_________________________________________________|\n",
    "\n",
    "        Given :\n",
    "\n",
    "        region          Temp        Rf      Hd\n",
    "          S              73         67      43\n",
    "          r              91         88      64\n",
    "          i              87        134      58\n",
    "          d              102        43      37\n",
    "          h              69         96      70\n",
    "          a              86         58      23\n",
    "\n",
    "        weight = [ 0.3, 0.2, 0.5 ]"
   ]
  },
  {
   "cell_type": "code",
   "execution_count": null,
   "metadata": {},
   "outputs": [
    {
     "name": "stdout",
     "output_type": "stream",
     "text": [
      "(91, 0.3)\n",
      "(88, 0.2)\n",
      "(64, 0.5)\n",
      "81.9\n"
     ]
    }
   ],
   "source": [
    "import numpy as np\n",
    "\n",
    "s = np.array([73,67,43])\n",
    "r = np.array([91,88,64])\n",
    "i = np.array([87,134,58])\n",
    "d = np.array([102,43,37])\n",
    "h = np.array([69,96,70])\n",
    "a = np.array([86,58,23])\n",
    "\n",
    "w = np.array([ 0.3, 0.2, 0.5 ])\n",
    "\n",
    "for r in zip(r,w):\n",
    "    print(r)\n",
    "\n",
    "print(np.dot(i,w))"
   ]
  },
  {
   "cell_type": "code",
   "execution_count": null,
   "metadata": {},
   "outputs": [
    {
     "name": "stdout",
     "output_type": "stream",
     "text": [
      "[array([73, 67, 43]) (64, 0.5) array([ 87, 134,  58])\n",
      " array([102,  43,  37]) array([69, 96, 70]) array([86, 58, 23])]\n",
      "(6,)\n"
     ]
    },
    {
     "name": "stderr",
     "output_type": "stream",
     "text": [
      "/tmp/ipykernel_2845/3788807858.py:1: VisibleDeprecationWarning: Creating an ndarray from ragged nested sequences (which is a list-or-tuple of lists-or-tuples-or ndarrays with different lengths or shapes) is deprecated. If you meant to do this, you must specify 'dtype=object' when creating the ndarray.\n",
      "  c = np.array([s,r,i,d,h,a])\n"
     ]
    }
   ],
   "source": [
    "\n",
    "c = np.array([s,r,i,d,h,a])\n",
    "print(c)\n",
    "print(c.shape)\n"
   ]
  },
  {
   "cell_type": "code",
   "execution_count": null,
   "metadata": {},
   "outputs": [],
   "source": [
    "v1 = list(range(100))\n",
    "v2 = list(range(100,200))\n",
    "print(np.dot(v1,v2))                   # Dot operation explored \n",
    "\n",
    "sk = v1+v2\n",
    "print(sk)"
   ]
  },
  {
   "cell_type": "code",
   "execution_count": null,
   "metadata": {},
   "outputs": [],
   "source": [
    "m  = np.zeros((3,3))                    # All Zero's are explored here\n",
    "print(m)\n",
    "\n",
    "n = np.ones((3,3))                      # All Ones are explored here\n",
    "print(f\"\\nAfter ones ..\\n\",n)\n",
    "\n",
    "ar = np.arange(0,100,2)                 # The Arrangement Process will be happens here\n",
    "print(\"\\n After arrange ..\\n\",ar)\n",
    "ar.reshape(5,10)                        # Reshape operation performs here\n"
   ]
  },
  {
   "attachments": {},
   "cell_type": "markdown",
   "metadata": {},
   "source": [
    "# The Numpy fun are mentioned in below \n",
    "\n",
    "    .array([])                          .concordinate()\n",
    "    .dtype()                            .apply_along_axis()\n",
    "    .zeros((_,_))                       .hsplit(_,_)\n",
    "    .ones((_,_))                        .vsplit(_,_)\n",
    "    .arrange(_,_)                       .vstack(_,_)\n",
    "    .reshape(_,_)                       .hstack(_,_)\n",
    "    .linspace(_,_,_)                    .column_stack()\n",
    "    .random()                           .row_stack()\n",
    "    .dot()                              .eye\n",
    "    .matmul     (or)    @               .full([_,_],_)\n",
    "    .sqrt()\n",
    "    .sin()\n",
    "    .sum()\n",
    "    .min()\n",
    "    .max()\n",
    "    .mean()\n",
    "    .std()\n"
   ]
  },
  {
   "cell_type": "code",
   "execution_count": null,
   "metadata": {},
   "outputs": [],
   "source": [
    "import numpy as np\n",
    "\n",
    "s = np.array([2,3,4,6,7])\n",
    "r = np.array([9,5,6,7,8])\n",
    "\n",
    "print(s.dtype)\n",
    "print(s@r)\n",
    "print(s.min())\n",
    "print(s.max())\n",
    "print(s.mean())\n",
    "print(s)\n",
    "for s,r in zip(s,r):\n",
    "    print(s,r)\n",
    "\n"
   ]
  },
  {
   "cell_type": "code",
   "execution_count": null,
   "metadata": {},
   "outputs": [],
   "source": [
    "cod1 = np.array([[2,3,4,5,6],\n",
    "                 [4,8,2,6,3],\n",
    "                 [0,2,3,4,5]])\n",
    "\n",
    "cod2 = np.array([[12,43,65,7,88],\n",
    "                 [99,56,73,49,4],\n",
    "                 [12,23,54,56,76]])\n",
    "cod1+cod2\n",
    "cod1 = cod1+10\n",
    "cod1.shape\n",
    "cod1.reshape(3,5,1)\n",
    "cod1==cod2\n",
    "cod3 = cod1*cod2\n",
    "cod3//3\n",
    "cod3%3\n",
    "\n",
    "cod4 = np.array([[[2,4,3,4],[5,9,8,5]],\n",
    "                 [[66,87,66,45],[675,897,34,67]]])\n",
    "cod4.shape\n",
    "cod4[1:,1:,:2]\n",
    "np.eye(4)\n",
    "np.random.randn(4)\n",
    "np.random.randint(20)\n",
    "np.full([3,4,3],42)\n",
    "np.arange(10,100,5).reshape(6,3)\n",
    "np.linspace(2,12,10)"
   ]
  },
  {
   "attachments": {},
   "cell_type": "markdown",
   "metadata": {},
   "source": [
    "# OS Module Importing & Working togather \n",
    "\n"
   ]
  },
  {
   "cell_type": "code",
   "execution_count": null,
   "metadata": {},
   "outputs": [],
   "source": [
    "import os as o\n",
    "o.listdir('/usr/')      # to know absalute path of the working dir\n",
    "o.listdir('/usr/games/')\n",
    "o.listdir('.')"
   ]
  }
 ],
 "metadata": {
  "kernelspec": {
   "display_name": "Python 3",
   "language": "python",
   "name": "python3"
  },
  "language_info": {
   "codemirror_mode": {
    "name": "ipython",
    "version": 3
   },
   "file_extension": ".py",
   "mimetype": "text/x-python",
   "name": "python",
   "nbconvert_exporter": "python",
   "pygments_lexer": "ipython3",
   "version": "3.11.2"
  },
  "orig_nbformat": 4
 },
 "nbformat": 4,
 "nbformat_minor": 2
}

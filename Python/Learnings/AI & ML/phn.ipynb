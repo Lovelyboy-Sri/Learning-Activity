{
 "cells": [
  {
   "attachments": {},
   "cell_type": "markdown",
   "metadata": {},
   "source": [
    "Here we gonna to Learn about python AI & ML contents\n",
    "\n",
    "# Numpy\n",
    " \n",
    " * Homogeneous Multidimensional array\n",
    " * Used to calculate the scientific calculation"
   ]
  },
  {
   "attachments": {},
   "cell_type": "markdown",
   "metadata": {},
   "source": [
    "Methods ..\n",
    "    1. np.array(array,dtype)\n",
    "    2. np.zeros((r,c))\n",
    "    3. np.ones((array count,row,col))\n",
    "\n",
    "    4. np.linspace(start,end,count_numbers)\n",
    "    5. np.arange(start,end,*val)\n",
    "    6. __.ndim                                                                         --> Dimension of the array \n",
    "    7. np.shape()"
   ]
  },
  {
   "cell_type": "code",
   "execution_count": 20,
   "metadata": {},
   "outputs": [
    {
     "name": "stdout",
     "output_type": "stream",
     "text": [
      "int64\n",
      "[[ 2  3  4  5  6]\n",
      " [ 5  6 98  9  0]]\n",
      "[[0. 0. 0.]\n",
      " [0. 0. 0.]\n",
      " [0. 0. 0.]]\n",
      "[[[1. 1. 1. 1.]\n",
      "  [1. 1. 1. 1.]\n",
      "  [1. 1. 1. 1.]\n",
      "  [1. 1. 1. 1.]]\n",
      "\n",
      " [[1. 1. 1. 1.]\n",
      "  [1. 1. 1. 1.]\n",
      "  [1. 1. 1. 1.]\n",
      "  [1. 1. 1. 1.]]\n",
      "\n",
      " [[1. 1. 1. 1.]\n",
      "  [1. 1. 1. 1.]\n",
      "  [1. 1. 1. 1.]\n",
      "  [1. 1. 1. 1.]]]\n",
      "33\n",
      "[ 1  4  7 10 13 16 19 22 25 28 31 34 37 40 43 46 49 52 55 58 61 64 67 70\n",
      " 73 76 79 82 85 88 91 94 97]\n",
      "(33,)\n",
      "[ 1.          2.57142857  4.14285714  5.71428571  7.28571429  8.85714286\n",
      " 10.42857143 12.        ]\n"
     ]
    }
   ],
   "source": [
    "import numpy as np\n",
    "\n",
    "\n",
    "# one dimensional array \n",
    "a = np.array([5,6,3,2,3])\n",
    "print(a.dtype)\n",
    "\n",
    "\n",
    "# Two dimensional array\n",
    "b = np.array([(2,3,4,5,6),(5,6,98,9,0)])\n",
    "print(b)\n",
    "\n",
    "# Np one's\n",
    "z = np.zeros((3,3))\n",
    "print(z)\n",
    "\n",
    "# Np ones\n",
    "o = np.ones((3,4,4))\n",
    "print(o)\n",
    "\n",
    "# np arrang\n",
    "ar = np.arange(1,100,3)\n",
    "print(len(ar))\n",
    "print(ar)\n",
    "print(ar.shape)\n",
    "\n",
    "\n",
    "\n",
    "# np linspace()\n",
    "l = np.linspace(1,12,8)\n",
    "print(l)\n"
   ]
  }
 ],
 "metadata": {
  "kernelspec": {
   "display_name": "Python 3",
   "language": "python",
   "name": "python3"
  },
  "language_info": {
   "codemirror_mode": {
    "name": "ipython",
    "version": 3
   },
   "file_extension": ".py",
   "mimetype": "text/x-python",
   "name": "python",
   "nbconvert_exporter": "python",
   "pygments_lexer": "ipython3",
   "version": "3.11.2"
  },
  "orig_nbformat": 4
 },
 "nbformat": 4,
 "nbformat_minor": 2
}
